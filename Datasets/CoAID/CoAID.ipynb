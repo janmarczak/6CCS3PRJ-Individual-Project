{
 "cells": [
  {
   "cell_type": "markdown",
   "id": "8a405934",
   "metadata": {},
   "source": [
    "# CoAID: COVID-19 Healthcare Misinformation Dataset"
   ]
  },
  {
   "cell_type": "markdown",
   "id": "4ac46ff7",
   "metadata": {},
   "source": [
    "CoAID (Covid-19 heAlthcare mIsinformation Dataset) is a diverse COVID-19 healthcare misinformation dataset, including fake news on websites and social platforms, along with users' social engagement about such news. It includes 5,216 news, 296,752 related user engagements, 958 social platform posts about COVID-19, and ground truth labels."
   ]
  },
  {
   "cell_type": "markdown",
   "id": "bf742e55",
   "metadata": {},
   "source": [
    "This dataset is taken from here: https://github.com/cuilimeng/CoAID"
   ]
  },
  {
   "cell_type": "markdown",
   "id": "0da73835",
   "metadata": {},
   "source": [
    "### Necessery Imports"
   ]
  },
  {
   "cell_type": "code",
   "execution_count": 2,
   "id": "01de32bb",
   "metadata": {},
   "outputs": [],
   "source": [
    "import pandas as pd\n",
    "import numpy as np\n",
    "# import plotly.express as px\n",
    "# import plotly\n",
    "pd.set_option('display.max_rows', 500, \"display.max_colwidth\", None)\n",
    "# plotly.offline.init_notebook_mode(connected=True)"
   ]
  },
  {
   "cell_type": "markdown",
   "id": "f1413f82",
   "metadata": {},
   "source": [
    "## 1. Loading the Datasets"
   ]
  },
  {
   "cell_type": "code",
   "execution_count": 3,
   "id": "f495a3c3",
   "metadata": {},
   "outputs": [],
   "source": [
    "CoAID_claim_fake = pd.read_csv('Initial_datasets/ClaimFakeCOVID.csv', \n",
    "                               usecols = ['title'], index_col = False, low_memory=False)\n",
    "CoAID_claim_real = pd.read_csv('Initial_datasets/ClaimRealCOVID.csv', \n",
    "                               usecols = ['title'], index_col = False, low_memory=False)\n",
    "CoAID_news_fake = pd.read_csv('Initial_datasets/NewsFakeCOVID.csv', \n",
    "                              usecols = ['title'], index_col = False, low_memory=False)\n",
    "CoAID_news_real = pd.read_csv('Initial_datasets/NewsRealCOVID.csv', \n",
    "                              usecols = ['title'], index_col = False, low_memory=False)"
   ]
  },
  {
   "cell_type": "code",
   "execution_count": 4,
   "id": "a90437e8",
   "metadata": {},
   "outputs": [],
   "source": [
    "# Adding claim_veracity column\n",
    "CoAID_claim_real['claim_veracity'] = 1\n",
    "CoAID_claim_fake['claim_veracity'] = 0\n",
    "CoAID_news_real['claim_veracity'] = 1\n",
    "CoAID_news_fake['claim_veracity'] = 0\n",
    "\n",
    "# Merging df in pairs\n",
    "CoAID_claim = pd.concat([CoAID_claim_real, CoAID_claim_fake], ignore_index=True)\n",
    "CoAID_news = pd.concat([CoAID_news_real, CoAID_news_fake], ignore_index=True)\n",
    "\n",
    "# Merging all dfs\n",
    "CoAID = pd.concat([CoAID_claim, CoAID_news], ignore_index=True)"
   ]
  },
  {
   "cell_type": "code",
   "execution_count": 5,
   "id": "8e6d79eb",
   "metadata": {},
   "outputs": [
    {
     "data": {
      "text/plain": [
       "5975"
      ]
     },
     "execution_count": 5,
     "metadata": {},
     "output_type": "execute_result"
    }
   ],
   "source": [
    "CoAID.shape[0]"
   ]
  },
  {
   "cell_type": "markdown",
   "id": "9a67cacb",
   "metadata": {},
   "source": [
    "## 2. Formatting the Dataset"
   ]
  },
  {
   "cell_type": "markdown",
   "id": "58962e09",
   "metadata": {},
   "source": [
    "### 2.1. Deleting quotes around claims\n",
    "Multiple claims are wrapped around qoutation marks, which is unnecessary "
   ]
  },
  {
   "cell_type": "code",
   "execution_count": 6,
   "id": "92ee6ed4",
   "metadata": {},
   "outputs": [],
   "source": [
    "def deleteQuotes(df):\n",
    "    df['title'] = np.where((df['title'].str[0] == '\"') & (df['title'].str[-1] == '\"'), \n",
    "                           df['title'].str[1:-1], df['title'])\n",
    "    df['title'] = np.where((df['title'].str[0] == '“') & (df['title'].str[-1] == '”'), \n",
    "                           df['title'].str[1:-1], df['title'])\n",
    "\n",
    "for df in [CoAID_claim, CoAID_news]: deleteQuotes(df)"
   ]
  },
  {
   "cell_type": "markdown",
   "id": "65d9d44f",
   "metadata": {},
   "source": [
    "### 2.2. Deleting Weird characters from the dataset"
   ]
  },
  {
   "cell_type": "code",
   "execution_count": 7,
   "id": "322127ce",
   "metadata": {},
   "outputs": [],
   "source": [
    "# Deleting non-ascii characters from the strings\n",
    "\n",
    "def deleteNonAscii(df):\n",
    "    df['title'] = df['title'].astype(str).apply(lambda x: x.encode('ascii', 'ignore').decode('ascii'))\n",
    "    \n",
    "for df in [CoAID_claim, CoAID_news]: deleteNonAscii(df)"
   ]
  },
  {
   "cell_type": "markdown",
   "id": "c2c785b0",
   "metadata": {},
   "source": [
    "### 2.3. Deleting entries with Links"
   ]
  },
  {
   "cell_type": "code",
   "execution_count": 8,
   "id": "13b22ade",
   "metadata": {},
   "outputs": [],
   "source": [
    "def deleteLinks(df):\n",
    "    df.drop(df.loc[df['title'].str.lower().str.contains('http')].index, inplace=True)\n",
    "    \n",
    "for df in [CoAID_claim, CoAID_news]: deleteLinks(df)"
   ]
  },
  {
   "cell_type": "markdown",
   "id": "76bc2860",
   "metadata": {},
   "source": [
    "### 2.3. Inspecting CoAID_claim dataset (518 entries)"
   ]
  },
  {
   "cell_type": "markdown",
   "id": "164e9117",
   "metadata": {},
   "source": [
    "- Claims as questions : Many claims are questions themselves and can't really be classified as true or false. They are all labelled as true, however they can't really be classified so need to be dropped as faulty entries"
   ]
  },
  {
   "cell_type": "code",
   "execution_count": 9,
   "id": "13d74a21",
   "metadata": {},
   "outputs": [],
   "source": [
    "CoAID_claim_picked = CoAID_claim[CoAID_claim['title'].str[-1] != '?'] # We are left only with 75 entries"
   ]
  },
  {
   "cell_type": "markdown",
   "id": "2d5a7591",
   "metadata": {},
   "source": [
    "- Other entries are of good quality and can be used in the classifier"
   ]
  },
  {
   "cell_type": "markdown",
   "id": "1b518e78",
   "metadata": {},
   "source": [
    "### 2.4. Inspecting CoAID_News dataset (5457 entries)\n",
    "- True entries (4532) are very noisy and of not the greatest quality. Mostly they are articles title that don't have any factual claims in them and are just introductions to bigger articles where the topic is expanded\n",
    "- Fake claims (925) on the other hand are structured correctly and seem to be of good quality"
   ]
  },
  {
   "cell_type": "code",
   "execution_count": 10,
   "id": "c5b45177",
   "metadata": {},
   "outputs": [],
   "source": [
    "# I am dropping all true entries from here and taking all the fake claims.\n",
    "CoAID_news_picked = CoAID_news[CoAID_news['claim_veracity'] == 0]"
   ]
  },
  {
   "cell_type": "markdown",
   "id": "1b00a78b",
   "metadata": {},
   "source": [
    "## 3. Saving the dataset"
   ]
  },
  {
   "cell_type": "code",
   "execution_count": 11,
   "id": "158c0b73",
   "metadata": {},
   "outputs": [],
   "source": [
    "CoAID_Final = pd.concat([CoAID_claim, CoAID_news])\n",
    "CoAID_Picked = pd.concat([CoAID_claim_picked, CoAID_news_picked], ignore_index=True) # 1000 entries"
   ]
  },
  {
   "cell_type": "code",
   "execution_count": 12,
   "id": "c7c41eaf",
   "metadata": {},
   "outputs": [],
   "source": [
    "# Change the column name\n",
    "CoAID_Final.rename(columns={'title': 'claim'}, inplace=True)\n",
    "CoAID_Picked.rename(columns={'title': 'claim'}, inplace=True)"
   ]
  },
  {
   "cell_type": "code",
   "execution_count": 11,
   "id": "238fd47c",
   "metadata": {},
   "outputs": [],
   "source": [
    "CoAID_Picked.to_csv('CoAID_Picked.csv', encoding='utf-8')\n",
    "CoAID_Final.to_csv('CoAID_Final.csv', encoding='utf-8')"
   ]
  }
 ],
 "metadata": {
  "kernelspec": {
   "display_name": "Python 3 (ipykernel)",
   "language": "python",
   "name": "python3"
  },
  "language_info": {
   "codemirror_mode": {
    "name": "ipython",
    "version": 3
   },
   "file_extension": ".py",
   "mimetype": "text/x-python",
   "name": "python",
   "nbconvert_exporter": "python",
   "pygments_lexer": "ipython3",
   "version": "3.9.7"
  }
 },
 "nbformat": 4,
 "nbformat_minor": 5
}
