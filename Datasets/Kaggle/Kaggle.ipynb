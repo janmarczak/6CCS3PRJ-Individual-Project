{
 "cells": [
  {
   "cell_type": "markdown",
   "id": "89cfc94c",
   "metadata": {},
   "source": [
    "# KAGGLE Dataset\n",
    "Headlines and bodies of news articles."
   ]
  },
  {
   "cell_type": "markdown",
   "id": "5011b659",
   "metadata": {},
   "source": [
    "### Necessery Imports"
   ]
  },
  {
   "cell_type": "code",
   "execution_count": null,
   "id": "a696afe7",
   "metadata": {},
   "outputs": [],
   "source": [
    "import pandas as pd\n",
    "import numpy as np\n",
    "import plotly.express as px\n",
    "import plotly\n",
    "pd.set_option('display.max_rows', 500, \"display.max_colwidth\", None)\n",
    "plotly.offline.init_notebook_mode(connected=True)\n",
    "import warnings\n",
    "warnings.filterwarnings('ignore')"
   ]
  },
  {
   "cell_type": "markdown",
   "id": "4c89da11",
   "metadata": {},
   "source": [
    "## 1. Loading the datasets"
   ]
  },
  {
   "cell_type": "code",
   "execution_count": null,
   "id": "e6c2596f",
   "metadata": {},
   "outputs": [],
   "source": [
    "# Loading the dataset and adding claim_veracity column\n",
    "KAGGLE_true = pd.read_csv('Initial_datasets/Kaggle_True.csv', low_memory=False)\n",
    "KAGGLE_true['claim_veracity'] = 1\n",
    "KAGGLE_false = pd.read_csv('Initial_datasets/Kaggle_Fake.csv', low_memory=False)\n",
    "KAGGLE_false['claim_veracity'] = 0\n",
    "\n",
    "KAGGLE_df = pd.concat([KAGGLE_true, KAGGLE_false], ignore_index=True)\n",
    "print(\"size od dataset: \", KAGGLE_df.shape)"
   ]
  },
  {
   "cell_type": "markdown",
   "id": "cac3d89f",
   "metadata": {},
   "source": [
    "## 2. Formatting the dataset"
   ]
  },
  {
   "cell_type": "markdown",
   "id": "0693ee27",
   "metadata": {},
   "source": [
    "### 2.1 Dropping unnessery columns"
   ]
  },
  {
   "cell_type": "code",
   "execution_count": null,
   "id": "ee04b651",
   "metadata": {},
   "outputs": [],
   "source": [
    "KAGGLE_df = KAGGLE_df.drop(['text', 'date'], 1)\n",
    "KAGGLE_df.head(5)"
   ]
  },
  {
   "cell_type": "markdown",
   "id": "86f274cb",
   "metadata": {},
   "source": [
    "### 2.2 Removing duplicates"
   ]
  },
  {
   "cell_type": "code",
   "execution_count": null,
   "id": "63691961",
   "metadata": {},
   "outputs": [],
   "source": [
    "# Removind duplicates (around 120)\n",
    "print(KAGGLE_df.shape[0])\n",
    "KAGGLE_df = KAGGLE_df.drop_duplicates(subset='title', keep='first')\n",
    "print(KAGGLE_df.shape[0])"
   ]
  },
  {
   "cell_type": "markdown",
   "id": "727015d8",
   "metadata": {},
   "source": [
    "### 2.3 Inspecting the subject"
   ]
  },
  {
   "cell_type": "code",
   "execution_count": null,
   "id": "1b66fe85",
   "metadata": {},
   "outputs": [],
   "source": [
    "fig = px.histogram(KAGGLE_df, x='subject')\n",
    "fig.update_layout(bargap=0.2)\n",
    "fig.show()"
   ]
  },
  {
   "cell_type": "markdown",
   "id": "ab7383a6",
   "metadata": {},
   "source": [
    "### 2.4 Any special characters"
   ]
  },
  {
   "cell_type": "code",
   "execution_count": null,
   "id": "b5794acc",
   "metadata": {},
   "outputs": [],
   "source": [
    "# Droping titles with @\n",
    "KAGGLE_df = KAGGLE_df.drop(KAGGLE_df[KAGGLE_df['title'].str.contains('@', regex=True)].index)"
   ]
  },
  {
   "cell_type": "code",
   "execution_count": null,
   "id": "0cfa04f7",
   "metadata": {},
   "outputs": [],
   "source": [
    "# Droping titles with \\n\n",
    "KAGGLE_df = KAGGLE_df.drop(KAGGLE_df[KAGGLE_df['title'].str.contains('\\n', regex=True)].index)"
   ]
  },
  {
   "cell_type": "code",
   "execution_count": null,
   "id": "a0382c2d",
   "metadata": {},
   "outputs": [],
   "source": [
    "# Droping titles with links ('http')\n",
    "KAGGLE_df = KAGGLE_df.drop(KAGGLE_df[KAGGLE_df['title'].str.contains('http', regex=True)].index)"
   ]
  },
  {
   "cell_type": "code",
   "execution_count": null,
   "id": "b6c06d19",
   "metadata": {},
   "outputs": [],
   "source": [
    "# Droping titles with # -> Mostly very weird entries that are not reliable (~400)\n",
    "KAGGLE_df = KAGGLE_df.drop(KAGGLE_df[KAGGLE_df['title'].str.contains('#', regex=True)].index)"
   ]
  },
  {
   "cell_type": "code",
   "execution_count": null,
   "id": "e28ef655",
   "metadata": {},
   "outputs": [],
   "source": [
    "# Titles containing ' & ' -> Replace with ' and ' instead (25)\n",
    "KAGGLE_df['title'] = KAGGLE_df['title'].str.replace(' & ',' and ')\n",
    "\n",
    "# Drop the rest of the titles containing &\n",
    "KAGGLE_df = KAGGLE_df.drop(KAGGLE_df[KAGGLE_df['title'].str.contains('&', regex=True)].index)"
   ]
  },
  {
   "cell_type": "code",
   "execution_count": null,
   "id": "b331572d",
   "metadata": {},
   "outputs": [],
   "source": [
    "# Droping titles with ; -> Hard to trust such titles\n",
    "KAGGLE_df = KAGGLE_df.drop(KAGGLE_df[KAGGLE_df['title'].str.contains(';', regex=True)].index)"
   ]
  },
  {
   "cell_type": "code",
   "execution_count": null,
   "id": "8be0c53c",
   "metadata": {},
   "outputs": [],
   "source": [
    "KAGGLE_df.shape[0]"
   ]
  },
  {
   "cell_type": "markdown",
   "id": "a75e6a3c",
   "metadata": {},
   "source": [
    "### 2.5 Other observations"
   ]
  },
  {
   "cell_type": "markdown",
   "id": "34fb15f8",
   "metadata": {},
   "source": [
    "- Looking for frequent words that are suspicious and unnessery"
   ]
  },
  {
   "cell_type": "code",
   "execution_count": null,
   "id": "f81be843",
   "metadata": {},
   "outputs": [],
   "source": [
    "# Take most common words\n",
    "\n",
    "from collections import Counter\n",
    "print(Counter(\" \".join(KAGGLE_df[\"title\"]).split()).most_common(200))"
   ]
  },
  {
   "cell_type": "code",
   "execution_count": null,
   "id": "204df7d2",
   "metadata": {},
   "outputs": [],
   "source": [
    "def replace_words(replace, replace_with):\n",
    "    KAGGLE_df['title'] = np.where(KAGGLE_df['title'].str.lower().str.contains(replace, regex=False), \n",
    "                                      KAGGLE_df['title'].str.lower().str.replace(replace, replace_with, regex=False), \n",
    "                                      KAGGLE_df['title'])"
   ]
  },
  {
   "cell_type": "code",
   "execution_count": null,
   "id": "437a1728",
   "metadata": {},
   "outputs": [],
   "source": [
    "# Deleting various inside brackets info that doesn't affect these listings\n",
    "# [] brackets\n",
    "KAGGLE_df['title'] = np.where(KAGGLE_df['title'].str.contains(r'\\[[A-Za-z\\/ ,.\\'0-9]*\\]', regex=True), \n",
    "                              KAGGLE_df['title'].str.replace(r'\\[[A-Za-z\\/ ,.\\'0-9]*\\]', '', regex=True), \n",
    "                              KAGGLE_df['title'])\n",
    "\n",
    "# () brackets\n",
    "KAGGLE_df['title'] = np.where(KAGGLE_df['title'].str.contains(r'\\([A-Za-z\\/ ,.\\'0-9]*\\)', regex=True), \n",
    "                              KAGGLE_df['title'].str.replace(r'\\([A-Za-z\\/ ,.\\'0-9]*\\)', '', regex=True), \n",
    "                              KAGGLE_df['title'])\n",
    "\n",
    "# Deleting other words that don't bring much to the table\n",
    "replace_words('factbox - ', '')\n",
    "replace_words('factbox:', '')  \n",
    "replace_words('wow!', '') \n",
    "replace_words('wow', '') \n",
    "replace_words('exlusive:', '') \n",
    "replace_words('exlusive - ', '') \n",
    "replace_words('exlusive ', '') \n",
    "replace_words('watch: ', '') "
   ]
  },
  {
   "cell_type": "markdown",
   "id": "139604f2",
   "metadata": {},
   "source": [
    "- Many entries are quating some twitter posts in an unusual way that doesn't ressemble a \"normal claim\""
   ]
  },
  {
   "cell_type": "code",
   "execution_count": null,
   "id": "38b0d201",
   "metadata": {},
   "outputs": [],
   "source": [
    "# Delete the \"on Twitter\" entries (212)\n",
    "KAGGLE_df = KAGGLE_df.drop(KAGGLE_df[KAGGLE_df['title'].str.lower().str.contains('on twitter', regex=True)].index)"
   ]
  },
  {
   "cell_type": "markdown",
   "id": "c310af91",
   "metadata": {},
   "source": [
    "### 2.6. TRUE/FALSE Distribution after formatting"
   ]
  },
  {
   "cell_type": "code",
   "execution_count": null,
   "id": "b5132176",
   "metadata": {},
   "outputs": [],
   "source": [
    "fig = px.histogram(KAGGLE_df, x='claim_veracity').update_xaxes(categoryarray=[1, 0])\n",
    "fig.update_layout(bargap=0.2)\n",
    "fig.show()"
   ]
  },
  {
   "cell_type": "markdown",
   "id": "0fdf40cf",
   "metadata": {},
   "source": [
    "### 2.7. Sentence Length\n",
    "- The lower character length sentences seem to bad. Very non-informative - EXAMINE\n"
   ]
  },
  {
   "cell_type": "code",
   "execution_count": null,
   "id": "66d66bfd",
   "metadata": {},
   "outputs": [],
   "source": [
    "KAGGLE_df['title_count'] = KAGGLE_df['title'].str.len()\n",
    "\n",
    "fig = px.histogram(KAGGLE_df, x='title_count') # With log scale to see a better distribution\n",
    "fig.update_layout(bargap=0.2)\n",
    "fig.show()"
   ]
  },
  {
   "cell_type": "code",
   "execution_count": null,
   "id": "d204ea57",
   "metadata": {},
   "outputs": [],
   "source": [
    "KAGGLE_df_1 = KAGGLE_df[KAGGLE_df['title_count'] <= 35]  # 0 - 30 -> DELETE ALL THESE (64)\n",
    "KAGGLE_df_2 = KAGGLE_df[(KAGGLE_df['title_count'] > 35) & (KAGGLE_df['title_count'] <= 50)]  # 35 - 50 (1377)\n",
    "KAGGLE_df_3 = KAGGLE_df[(KAGGLE_df['title_count'] > 50) & (KAGGLE_df['title_count'] <= 75)] # 50 - 75 (20886)\n",
    "KAGGLE_df_4 = KAGGLE_df[(KAGGLE_df['title_count'] > 75) & (KAGGLE_df['title_count'] <= 100)] # 75 - 100 (11502)\n",
    "KAGGLE_df_5 = KAGGLE_df[KAGGLE_df['title_count'] > 100] # 100 - 180 (4106)\n",
    "KAGGLE_df_6 = KAGGLE_df[KAGGLE_df['title_count'] > 180] # 180 - ___ (113) Don't like the quality of these entries"
   ]
  },
  {
   "cell_type": "markdown",
   "id": "1640e3fb",
   "metadata": {},
   "source": [
    "## 3. Making selected dataset"
   ]
  },
  {
   "cell_type": "markdown",
   "id": "5e31739a",
   "metadata": {},
   "source": [
    "Making a selected Kaggle dataset with entries from each category based on sentence length and their claim veracity"
   ]
  },
  {
   "cell_type": "markdown",
   "id": "da503fff",
   "metadata": {},
   "source": [
    "- 8 different ranges of characters length that split the dataset into 8 groups"
   ]
  },
  {
   "cell_type": "code",
   "execution_count": null,
   "id": "cc10fa71",
   "metadata": {},
   "outputs": [],
   "source": [
    "# 800 random entries from each category will be chosen (400 from true and 400 from fake)\n",
    "\n",
    "KAGGLE_df_true = KAGGLE_df[KAGGLE_df['claim_veracity'] == 1]\n",
    "KAGGLE_df_false = KAGGLE_df[KAGGLE_df['claim_veracity'] == 0]\n",
    "# df_list = []\n",
    "\n",
    "dfs = []\n",
    "for df in [KAGGLE_df_true, KAGGLE_df_false]:\n",
    "    df['char_category'] = pd.qcut(df['title_count'], 8, labels=[0, 1, 2, 3, 4, 5, 6, 7])\n",
    "    for category in [0, 1, 2, 3, 4, 5, 6, 7]:\n",
    "        category_df = df[df['char_category'] == category]\n",
    "        dfs.append(category_df.sample(400, random_state=1))\n",
    "    \n",
    "KAGGLE_picked = pd.concat(dfs)"
   ]
  },
  {
   "cell_type": "markdown",
   "id": "7e806c3d",
   "metadata": {},
   "source": [
    "## 4. Saving Datasets"
   ]
  },
  {
   "cell_type": "code",
   "execution_count": null,
   "id": "c1f67d0b",
   "metadata": {},
   "outputs": [],
   "source": [
    "# Rename title to claim\n",
    "KAGGLE_df.rename(columns={'title': 'claim'}, inplace=True)\n",
    "KAGGLE_picked.rename(columns={'title': 'claim'}, inplace=True)"
   ]
  },
  {
   "cell_type": "markdown",
   "id": "b5a595f6",
   "metadata": {},
   "source": [
    "### 4.1. Whole KAGGLE"
   ]
  },
  {
   "cell_type": "code",
   "execution_count": null,
   "id": "f7c6e22c",
   "metadata": {},
   "outputs": [],
   "source": [
    "KAGGLE_df = KAGGLE_df.sample(frac=1).reset_index(drop=True).drop(['subject', 'title_count'], axis=1)\n",
    "KAGGLE_df.to_csv('KAGGLE_Final.csv', encoding='utf-8')"
   ]
  },
  {
   "cell_type": "markdown",
   "id": "4df40b05",
   "metadata": {},
   "source": [
    "### 4.2. Picked KAGGLE"
   ]
  },
  {
   "cell_type": "code",
   "execution_count": null,
   "id": "3d5d14ff",
   "metadata": {},
   "outputs": [],
   "source": [
    "KAGGLE_picked = KAGGLE_picked.sample(frac=1).reset_index(drop=True).drop(['subject', 'title_count', 'char_category'], axis=1)\n",
    "KAGGLE_picked.to_csv('KAGGLE_Picked.csv', encoding='utf-8')"
   ]
  }
 ],
 "metadata": {
  "kernelspec": {
   "display_name": "Python 3 (ipykernel)",
   "language": "python",
   "name": "python3"
  },
  "language_info": {
   "codemirror_mode": {
    "name": "ipython",
    "version": 3
   },
   "file_extension": ".py",
   "mimetype": "text/x-python",
   "name": "python",
   "nbconvert_exporter": "python",
   "pygments_lexer": "ipython3",
   "version": "3.9.6"
  }
 },
 "nbformat": 4,
 "nbformat_minor": 5
}
